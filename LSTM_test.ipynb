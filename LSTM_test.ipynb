{
 "cells": [
  {
   "cell_type": "code",
   "execution_count": 1,
   "metadata": {},
   "outputs": [],
   "source": [
    "from typing import List\n",
    "from collections import OrderedDict\n",
    "from torch.utils.data import TensorDataset, DataLoader\n",
    "import torch\n",
    "import pandas as pd\n",
    "import numpy as np\n",
    "import flwr as fl\n",
    "from fl_preprocessing import preprocessing\n",
    "from sklearn.metrics import mean_squared_error\n",
    "from fl_model import get_model\n",
    "DEVICE = torch.device(\"cpu\")\n",
    "N_FEATURES = 11\n",
    "INPUT_DIM = N_FEATURES #check，此处特征值的设定不一定合理\n",
    "OUTPUT_DIM = 1\n",
    "HIDDEN_DIM = 64\n",
    "LAYER_DIM = 3\n",
    "BATCH_SIZE = 64\n",
    "DROPOUT = 0.2\n",
    "EPOCH = 50\n",
    "LEARNING_RATE = 0.001\n",
    "WEIGHT_DECAY = 0.0001\n",
    "# FL Settings  训练7轮，客户端数目为5\n",
    "ROUND = 7\n",
    "NUM_CLIENTS = 2\n",
    "#from myconstants import *  #本篇中的所有常量引用来源\n",
    "# Models chosen from rnn, lstm #定义了LSTM模型的基本结构\n",
    "MODEL = \"lstm\"\n",
    "MODEL_PARAMS = {\"input_dim\": INPUT_DIM,\n",
    "                \"hidden_dim\": HIDDEN_DIM,\n",
    "                \"layer_dim\": LAYER_DIM,\n",
    "                \"output_dim\": OUTPUT_DIM,\n",
    "                \"dropout_prob\": DROPOUT}"
   ]
  },
  {
   "cell_type": "code",
   "execution_count": null,
   "metadata": {},
   "outputs": [],
   "source": [
    "from fl_preprocessing import preprocessing_centralized\n",
    "preprocessing_centralized(['102.csv','1162.csv'])"
   ]
  },
  {
   "cell_type": "code",
   "execution_count": null,
   "metadata": {},
   "outputs": [],
   "source": []
  },
  {
   "cell_type": "code",
   "execution_count": null,
   "metadata": {},
   "outputs": [],
   "source": []
  },
  {
   "cell_type": "code",
   "execution_count": null,
   "metadata": {},
   "outputs": [],
   "source": []
  },
  {
   "cell_type": "code",
   "execution_count": null,
   "metadata": {},
   "outputs": [],
   "source": []
  },
  {
   "cell_type": "code",
   "execution_count": 4,
   "metadata": {},
   "outputs": [],
   "source": []
  },
  {
   "cell_type": "code",
   "execution_count": 5,
   "metadata": {},
   "outputs": [],
   "source": []
  },
  {
   "cell_type": "code",
   "execution_count": null,
   "metadata": {},
   "outputs": [],
   "source": []
  },
  {
   "cell_type": "code",
   "execution_count": null,
   "metadata": {},
   "outputs": [],
   "source": []
  },
  {
   "cell_type": "code",
   "execution_count": null,
   "metadata": {},
   "outputs": [],
   "source": []
  },
  {
   "cell_type": "code",
   "execution_count": null,
   "metadata": {},
   "outputs": [],
   "source": []
  }
 ],
 "metadata": {
  "kernelspec": {
   "display_name": "flower",
   "language": "python",
   "name": "python3"
  },
  "language_info": {
   "codemirror_mode": {
    "name": "ipython",
    "version": 3
   },
   "file_extension": ".py",
   "mimetype": "text/x-python",
   "name": "python",
   "nbconvert_exporter": "python",
   "pygments_lexer": "ipython3",
   "version": "3.8.5"
  }
 },
 "nbformat": 4,
 "nbformat_minor": 2
}
